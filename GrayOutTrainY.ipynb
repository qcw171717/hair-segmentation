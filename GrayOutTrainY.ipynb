{
 "cells": [
  {
   "cell_type": "code",
   "execution_count": 1,
   "metadata": {},
   "outputs": [],
   "source": [
    "import pickle\n",
    "original_train_y = {}\n",
    "smaller_train_y = {}\n",
    "with open('TrainY.pkl', 'rb') as f:\n",
    "    original_train_y = pickle.load(f)"
   ]
  },
  {
   "cell_type": "code",
   "execution_count": 3,
   "metadata": {},
   "outputs": [],
   "source": [
    "for key in original_train_y:\n",
    "    this_y = original_train_y[key]\n",
    "    smaller_y = []\n",
    "    for i in range(224):\n",
    "        for j in range(224):\n",
    "            if this_y[i][j][0] != 0:\n",
    "                smaller_y.extend([0, 1])\n",
    "            else:\n",
    "                smaller_y.extend([1, 0])\n",
    "    smaller_train_y[key] = smaller_y"
   ]
  },
  {
   "cell_type": "code",
   "execution_count": 4,
   "metadata": {},
   "outputs": [],
   "source": [
    "import pickle\n",
    "with open('GrayTrainY.pkl', 'wb') as f:\n",
    "    pickle.dump(smaller_train_y, f)"
   ]
  },
  {
   "cell_type": "code",
   "execution_count": 6,
   "metadata": {},
   "outputs": [
    {
     "data": {
      "image/png": "[encoded data removed]",
      "text/plain": [
       "<Figure size 432x288 with 1 Axes>"
      ]
     },
     "metadata": {},
     "output_type": "display_data"
    }
   ],
   "source": [
    "%matplotlib inline\n",
    "import matplotlib.pyplot as plt\n",
    "import numpy as np\n",
    "\n",
    "for key in smaller_train_y:\n",
    "    plt.imshow(np.array(smaller_train_y[key]).reshape(250, 250), cmap='gray')\n",
    "    plt.show()\n",
    "    break"
   ]
  },
  {
   "cell_type": "code",
   "execution_count": null,
   "metadata": {},
   "outputs": [],
   "source": []
  }
 ],
 "metadata": {
  "kernelspec": {
   "display_name": "Python 3",
   "language": "python",
   "name": "python3"
  },
  "language_info": {
   "codemirror_mode": {
    "name": "ipython",
    "version": 3
   },
   "file_extension": ".py",
   "mimetype": "text/x-python",
   "name": "python",
   "nbconvert_exporter": "python",
   "pygments_lexer": "ipython3",
   "version": "3.5.5"
  }
 },
 "nbformat": 4,
 "nbformat_minor": 2
}
